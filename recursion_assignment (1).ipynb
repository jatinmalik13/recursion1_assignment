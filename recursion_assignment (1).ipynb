{
 "cells": [
  {
   "cell_type": "code",
   "execution_count": 1,
   "id": "89f72054-fdc6-49a0-8bd4-408765ca8ad0",
   "metadata": {},
   "outputs": [
    {
     "data": {
      "text/plain": [
       "'Recurrence Relation:\\n𝑇(𝑛)=3𝑇(𝑛−1)+12𝑛\\nT(n)=3T(n−1)+12n\\nwith the initial condition:\\n𝑇(0)=5\\nT(0)=5\\n\\nFind 𝑇(1)\\nT(1)= 3T(0)+12*1\\nsubstituteT(0)=5:\\nT(1)=3*5+12*1\\nT(1)=15+12\\nt(1)=27\\n\\nfor t(2):\\nt(2)=3t(1)+12*2\\nsubstitute t(1)=27\\nt(2)=3*27+12*2\\nt(2)=81+24\\nt(2)=105\\n\\nresult:\\nthe value of t(2) is 105'"
      ]
     },
     "execution_count": 1,
     "metadata": {},
     "output_type": "execute_result"
    }
   ],
   "source": [
    "# 1 Find the val%e of T(2) for the rec%rrence relation T(n) = 3T(n-1) + 12n, given that T(0)=5.\n",
    "\n",
    "# ans\n",
    "\n",
    "'''Recurrence Relation:\n",
    "𝑇(𝑛)=3𝑇(𝑛−1)+12𝑛\n",
    "T(n)=3T(n−1)+12n\n",
    "with the initial condition:\n",
    "𝑇(0)=5\n",
    "T(0)=5\n",
    "\n",
    "Find 𝑇(1)\n",
    "T(1)= 3T(0)+12*1\n",
    "substituteT(0)=5:\n",
    "T(1)=3*5+12*1\n",
    "T(1)=15+12\n",
    "t(1)=27\n",
    "\n",
    "for t(2):\n",
    "t(2)=3t(1)+12*2\n",
    "substitute t(1)=27\n",
    "t(2)=3*27+12*2\n",
    "t(2)=81+24\n",
    "t(2)=105\n",
    "\n",
    "result:\n",
    "the value of t(2) is 105'''"
   ]
  },
  {
   "cell_type": "code",
   "execution_count": 3,
   "id": "8daa61dd-03ea-48b9-a146-4648c9a9d80c",
   "metadata": {},
   "outputs": [
    {
     "data": {
      "text/plain": [
       "' ans\\n\\na. \\n𝑇(𝑛)=𝑇(𝑛−1)+𝑐\\nT(n)=T(n−1)+c\\n\\nProof by Induction:\\n\\nBase Case: For 𝑛=0\\n𝑇(0)=𝑇(0)+𝑐⋅0=𝑇(0)\\nT(0)=T(0)+c⋅0=T(0)\\nThis is true.\\n\\nnductive Step: Assume 𝑇(𝑘)=𝑇(0)+c𝑘\\nT(k)=T(0)+ck holds for some 𝑘\\nk. We need to prove it for 𝑘+1\\nk+1:\\n𝑇(𝑘+1)=𝑇(𝑘)+𝑐\\nT(k+1)=T(k)+c\\nUsing the induction hypothesis 𝑇(𝑘)=𝑇(0)+𝑐𝑘\\nT(k+1)=(T(0)+ck)+c\\n\\nT(k+1)=T(0)+c(k+1)\\nThis matches the guess.\\n\\nSolution:\\nT(n)=T(0)+cn\\n\\nb. \\nT(n)=2T(n/2)+n\\n\\nGuess: \\nT(n)=anlogn+bn\\n\\nProof by Induction:\\n\\nBase Case: For \\nT(1)=2T(1/2)+1\\nFor simplicity, assume \\nT(1) matches the guess.\\n\\n\\nInductive Step: Assume \\n\\nT(k)=aklogk+bk. We need to prove it for \\n\\nT(2k)=2T(k)+2k\\nSubstituting the guess:\\n\\nT(2k)=2(aklogk+bk)+2k\\nT(2k)=2aklogk+2bk+2k\\n\\nT(2k)=a⋅2klog(2k)+(2b+2)k\\nT(2k)=a⋅2k(logk+log2)+(2b+2)k\\nT(2k)=a⋅2klog2+aklogk+(2b+2)k\\n\\nT(2k)=a⋅2klog2+aklogk+(2b+2)k\\n\\nSolution: \\nT(n)=O(nlogn)\\n\\nc.\\nT(n)=2T(n/2)+c\\nguess - T(n)=an+b\\n\\nProof by Induction::\\n\\nBase Case: For \\nn=1:\\nT(1)=2T(1/2)+c\\nAssume \\nT(1)=a⋅1+b.\\nInductive Step: Assume \\nT(k)=ak+b. We need to prove it for 2k:\\nT(2k)=2T(k)+c\\nSubstituting the guess:\\nT(2k)=2(ak+b)+c\\nT(2k)=2ak+2b+c\\n\\nWe match this to a⋅2k+b.\\nSolution: T(n)=O(n)\\n\\nd.\\n\\nT(n)=T(n/2)+c\\nGuess: T(n)=alogn+b\\n\\nproof by induction\\n\\nBase Case: For n=1:\\nT(1)=T(1/2)+c\\nAssume \\nT(1)=alog1+b.\\n\\nInductive Step: Assume \\n(k)=alogk+b. We need to prove it for \\nT(2k)=T(k)+c\\nSubstituting the guess:\\nlog\\nT(2k)=alogk+b+c\\nWe need to match this to \\nalog(2k)+b.\\n\\nSolution:\\nT(n)=O(logn)'"
      ]
     },
     "execution_count": 3,
     "metadata": {},
     "output_type": "execute_result"
    }
   ],
   "source": [
    "'''2. Given a rec%rrence relation, solve it %sing the s%bstit%tion method:\n",
    "a. T(n) = T(n-1) + c\n",
    "b. T(n) = 2T(n/2) + n\n",
    "c. T(n) = 2T(n/2) + c\n",
    "d. T(n) = T(n/2) + c'''\n",
    "\n",
    "\n",
    "''' ans\n",
    "\n",
    "a. \n",
    "𝑇(𝑛)=𝑇(𝑛−1)+𝑐\n",
    "T(n)=T(n−1)+c\n",
    "\n",
    "Proof by Induction:\n",
    "\n",
    "Base Case: For 𝑛=0\n",
    "𝑇(0)=𝑇(0)+𝑐⋅0=𝑇(0)\n",
    "T(0)=T(0)+c⋅0=T(0)\n",
    "This is true.\n",
    "\n",
    "nductive Step: Assume 𝑇(𝑘)=𝑇(0)+c𝑘\n",
    "T(k)=T(0)+ck holds for some 𝑘\n",
    "k. We need to prove it for 𝑘+1\n",
    "k+1:\n",
    "𝑇(𝑘+1)=𝑇(𝑘)+𝑐\n",
    "T(k+1)=T(k)+c\n",
    "Using the induction hypothesis 𝑇(𝑘)=𝑇(0)+𝑐𝑘\n",
    "T(k+1)=(T(0)+ck)+c\n",
    "\n",
    "T(k+1)=T(0)+c(k+1)\n",
    "This matches the guess.\n",
    "\n",
    "Solution:\n",
    "T(n)=T(0)+cn\n",
    "\n",
    "b. \n",
    "T(n)=2T(n/2)+n\n",
    "\n",
    "Guess: \n",
    "T(n)=anlogn+bn\n",
    "\n",
    "Proof by Induction:\n",
    "\n",
    "Base Case: For \n",
    "T(1)=2T(1/2)+1\n",
    "For simplicity, assume \n",
    "T(1) matches the guess.\n",
    "\n",
    "\n",
    "Inductive Step: Assume \n",
    "\n",
    "T(k)=aklogk+bk. We need to prove it for \n",
    "\n",
    "T(2k)=2T(k)+2k\n",
    "Substituting the guess:\n",
    "\n",
    "T(2k)=2(aklogk+bk)+2k\n",
    "T(2k)=2aklogk+2bk+2k\n",
    "\n",
    "T(2k)=a⋅2klog(2k)+(2b+2)k\n",
    "T(2k)=a⋅2k(logk+log2)+(2b+2)k\n",
    "T(2k)=a⋅2klog2+aklogk+(2b+2)k\n",
    "\n",
    "T(2k)=a⋅2klog2+aklogk+(2b+2)k\n",
    "\n",
    "Solution: \n",
    "T(n)=O(nlogn)\n",
    "\n",
    "c.\n",
    "T(n)=2T(n/2)+c\n",
    "guess - T(n)=an+b\n",
    "\n",
    "Proof by Induction::\n",
    "\n",
    "Base Case: For \n",
    "n=1:\n",
    "T(1)=2T(1/2)+c\n",
    "Assume \n",
    "T(1)=a⋅1+b.\n",
    "Inductive Step: Assume \n",
    "T(k)=ak+b. We need to prove it for 2k:\n",
    "T(2k)=2T(k)+c\n",
    "Substituting the guess:\n",
    "T(2k)=2(ak+b)+c\n",
    "T(2k)=2ak+2b+c\n",
    "\n",
    "We match this to a⋅2k+b.\n",
    "Solution: T(n)=O(n)\n",
    "\n",
    "d.\n",
    "\n",
    "T(n)=T(n/2)+c\n",
    "Guess: T(n)=alogn+b\n",
    "\n",
    "proof by induction\n",
    "\n",
    "Base Case: For n=1:\n",
    "T(1)=T(1/2)+c\n",
    "Assume \n",
    "T(1)=alog1+b.\n",
    "\n",
    "Inductive Step: Assume \n",
    "(k)=alogk+b. We need to prove it for \n",
    "T(2k)=T(k)+c\n",
    "Substituting the guess:\n",
    "log\n",
    "T(2k)=alogk+b+c\n",
    "We need to match this to \n",
    "alog(2k)+b.\n",
    "\n",
    "Solution:\n",
    "T(n)=O(logn)'''"
   ]
  },
  {
   "cell_type": "code",
   "execution_count": null,
   "id": "a19578b0-1c85-4347-b413-257c74a579b6",
   "metadata": {},
   "outputs": [],
   "source": [
    "\n",
    "\n"
   ]
  },
  {
   "cell_type": "code",
   "execution_count": 4,
   "id": "315c1c1e-fb01-466a-81d7-681266f3c3f6",
   "metadata": {},
   "outputs": [
    {
     "data": {
      "text/plain": [
       "'3. Given a rec%rrence relation, solve it %sing the rec%rsive tree approach:\\na. T(n) = 2T(n-1) +1\\nb. T(n) = 2T(n/2) + n'"
      ]
     },
     "execution_count": 4,
     "metadata": {},
     "output_type": "execute_result"
    }
   ],
   "source": [
    "'''3. Given a rec%rrence relation, solve it %sing the rec%rsive tree approach:\n",
    "a. T(n) = 2T(n-1) +1\n",
    "b. T(n) = 2T(n/2) + n'''\n"
   ]
  },
  {
   "cell_type": "code",
   "execution_count": null,
   "id": "0dea80d4-b564-45aa-989b-c1a043589eeb",
   "metadata": {},
   "outputs": [],
   "source": []
  }
 ],
 "metadata": {
  "kernelspec": {
   "display_name": "Python 3 (ipykernel)",
   "language": "python",
   "name": "python3"
  },
  "language_info": {
   "codemirror_mode": {
    "name": "ipython",
    "version": 3
   },
   "file_extension": ".py",
   "mimetype": "text/x-python",
   "name": "python",
   "nbconvert_exporter": "python",
   "pygments_lexer": "ipython3",
   "version": "3.12.0"
  }
 },
 "nbformat": 4,
 "nbformat_minor": 5
}
